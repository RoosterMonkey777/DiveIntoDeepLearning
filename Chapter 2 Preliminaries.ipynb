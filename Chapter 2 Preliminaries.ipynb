{
 "cells": [
  {
   "cell_type": "markdown",
   "id": "01330549",
   "metadata": {},
   "source": [
    "# 2. Preliminaries"
   ]
  },
  {
   "cell_type": "markdown",
   "id": "b05d9f50",
   "metadata": {},
   "source": [
    "Will need a few skills:\n",
    "- techniques for storing and manipulating data\n",
    "- libraries for ingesting and preprocessing data from variety of sources\n",
    "- knowledge of basic linear algebraic operations that can be applied to high-dimensional data\n",
    "- enough calculus to determine which direction to adjust each parameter in order to decrease loss function\n",
    "- ability to automatically compute derivatives \n",
    "- fluency in probability (primary language for reasoning under uncertainty\n",
    "- apptitude for finding answers in documentation "
   ]
  },
  {
   "cell_type": "markdown",
   "id": "3b1d5a69",
   "metadata": {},
   "source": [
    "### 2.1 Data Manipulation"
   ]
  },
  {
   "cell_type": "markdown",
   "id": "36dcb0e2",
   "metadata": {},
   "source": [
    "Need ways to manipulate data, generally two important tasks:\n",
    "- acquire data\n",
    "- process once its inside the computer\n",
    "\n",
    "n-dimensional arrays are known as tensors\n",
    "\n",
    "All modern deep learning framworks, tensor class resembles NumPy's ndarray class (with more features added)\n",
    "\n",
    "- Tensor class supports automatic differntiation\n",
    "- Leverages GPUs to accerlate numerical computation, whereas NumPy only runs on CPU \n",
    "\n",
    "These properties make neural networks easy to code and fast to run"
   ]
  },
  {
   "cell_type": "code",
   "execution_count": 1,
   "id": "aa8c515b",
   "metadata": {},
   "outputs": [],
   "source": [
    "import torch"
   ]
  },
  {
   "cell_type": "markdown",
   "id": "d75798f3",
   "metadata": {},
   "source": [
    "A tensor represents array of numerical values (in any dimensions)\n",
    "\n",
    "One-dimensional tensors are known as **vectors**\n",
    "\n",
    "Two-dimensional tensors are known as **matrix**\n",
    "\n",
    "K-dimensional, is known as a k-th order tensor"
   ]
  },
  {
   "cell_type": "markdown",
   "id": "cb7af76c",
   "metadata": {},
   "source": [
    "Pytorch offers many ways to create new tensors and prepopulating with values. Example arange(n), will create evenly spaced tensors starting at 0 (included) up to n (not included)\n",
    "\n",
    "Default, the interval size is 1 (can be changed)\n",
    "\n",
    "New tensors are stored in main memory and designated for CPU-based computations"
   ]
  },
  {
   "cell_type": "code",
   "execution_count": 4,
   "id": "c3896598",
   "metadata": {},
   "outputs": [
    {
     "data": {
      "text/plain": [
       "tensor([ 0,  1,  2,  3,  4,  5,  6,  7,  8,  9, 10, 11])"
      ]
     },
     "execution_count": 4,
     "metadata": {},
     "output_type": "execute_result"
    }
   ],
   "source": [
    "x = torch.arange(12)\n",
    "x"
   ]
  },
  {
   "cell_type": "code",
   "execution_count": 5,
   "id": "3bd067a8",
   "metadata": {},
   "outputs": [
    {
     "data": {
      "text/plain": [
       "tensor([0., 1., 2., 3., 4., 5., 6., 7., 8., 9.])"
      ]
     },
     "execution_count": 5,
     "metadata": {},
     "output_type": "execute_result"
    }
   ],
   "source": [
    "y = torch.arange(10, dtype=torch.float32)\n",
    "y"
   ]
  },
  {
   "cell_type": "markdown",
   "id": "b0712909",
   "metadata": {},
   "source": [
    "Values are called **elements** of the tensor\n",
    "\n",
    "tensor x contains 12 elements\n",
    "tensor y contains 10 elements\n",
    "\n",
    "Can inspect the total number of elements in a tensor using **numel** method"
   ]
  },
  {
   "cell_type": "code",
   "execution_count": 6,
   "id": "05398d76",
   "metadata": {},
   "outputs": [
    {
     "data": {
      "text/plain": [
       "12"
      ]
     },
     "execution_count": 6,
     "metadata": {},
     "output_type": "execute_result"
    }
   ],
   "source": [
    "x.numel()"
   ]
  },
  {
   "cell_type": "code",
   "execution_count": 7,
   "id": "1e3ceb5d",
   "metadata": {},
   "outputs": [
    {
     "data": {
      "text/plain": [
       "10"
      ]
     },
     "execution_count": 7,
     "metadata": {},
     "output_type": "execute_result"
    }
   ],
   "source": [
    "y.numel()"
   ]
  },
  {
   "cell_type": "markdown",
   "id": "0868b668",
   "metadata": {},
   "source": [
    "Can also see the shape of the tensor (length along each direction)\n",
    "\n",
    "Because x is a vector, it will only have a single dimension"
   ]
  },
  {
   "cell_type": "code",
   "execution_count": 9,
   "id": "3c42448e",
   "metadata": {},
   "outputs": [
    {
     "data": {
      "text/plain": [
       "torch.Size([12])"
      ]
     },
     "execution_count": 9,
     "metadata": {},
     "output_type": "execute_result"
    }
   ],
   "source": [
    "x.shape"
   ]
  },
  {
   "cell_type": "markdown",
   "id": "c29ec5bf",
   "metadata": {},
   "source": [
    "Can change the shape of a tensor without altering its size or values, by invoking **reshape** function \n",
    "\n",
    "For example, we can transform our vector x whose shape is (12,) to a matrix X with shape (3, 4). This new tensor retains all elements but reconfigures them into a matrix. Notice that the elements of our vector are laid out one row at a time and thus x[3] == X[0, 3]."
   ]
  },
  {
   "cell_type": "code",
   "execution_count": 10,
   "id": "8ba03a90",
   "metadata": {},
   "outputs": [
    {
     "data": {
      "text/plain": [
       "tensor([[ 0,  1,  2,  3],\n",
       "        [ 4,  5,  6,  7],\n",
       "        [ 8,  9, 10, 11]])"
      ]
     },
     "execution_count": 10,
     "metadata": {},
     "output_type": "execute_result"
    }
   ],
   "source": [
    "X = x.reshape(3,4)\n",
    "X"
   ]
  },
  {
   "cell_type": "markdown",
   "id": "55c61c72",
   "metadata": {},
   "source": [
    "Note: specifying every shape component to reshape is redundant. Because we already know our tensor’s size, we can work out one component of the shape given the rest. \n",
    "\n",
    "To automatically infer one component of the shape, we can place a -1 for the shape component that should be inferred automatically. In our case, instead of calling x.reshape(3, 4), we could have equivalently called x.reshape(-1, 4) or x.reshape(3, -1).\n",
    "\n",
    "Practitioners often need to work with tensors initialized to contain all 0s or 1s. We can construct a tensor with all elements set to 0 and a shape of (2, 3, 4) via the zeros function."
   ]
  },
  {
   "cell_type": "code",
   "execution_count": 13,
   "id": "66c37f56",
   "metadata": {},
   "outputs": [
    {
     "data": {
      "text/plain": [
       "tensor([[[0., 0., 0., 0.],\n",
       "         [0., 0., 0., 0.],\n",
       "         [0., 0., 0., 0.]],\n",
       "\n",
       "        [[0., 0., 0., 0.],\n",
       "         [0., 0., 0., 0.],\n",
       "         [0., 0., 0., 0.]]])"
      ]
     },
     "execution_count": 13,
     "metadata": {},
     "output_type": "execute_result"
    }
   ],
   "source": [
    "torch.zeros((2,3,4))"
   ]
  },
  {
   "cell_type": "code",
   "execution_count": 16,
   "id": "57d7846e",
   "metadata": {},
   "outputs": [
    {
     "data": {
      "text/plain": [
       "tensor([[[[0., 0., 0., 0.],\n",
       "          [0., 0., 0., 0.],\n",
       "          [0., 0., 0., 0.]],\n",
       "\n",
       "         [[0., 0., 0., 0.],\n",
       "          [0., 0., 0., 0.],\n",
       "          [0., 0., 0., 0.]],\n",
       "\n",
       "         [[0., 0., 0., 0.],\n",
       "          [0., 0., 0., 0.],\n",
       "          [0., 0., 0., 0.]],\n",
       "\n",
       "         [[0., 0., 0., 0.],\n",
       "          [0., 0., 0., 0.],\n",
       "          [0., 0., 0., 0.]]],\n",
       "\n",
       "\n",
       "        [[[0., 0., 0., 0.],\n",
       "          [0., 0., 0., 0.],\n",
       "          [0., 0., 0., 0.]],\n",
       "\n",
       "         [[0., 0., 0., 0.],\n",
       "          [0., 0., 0., 0.],\n",
       "          [0., 0., 0., 0.]],\n",
       "\n",
       "         [[0., 0., 0., 0.],\n",
       "          [0., 0., 0., 0.],\n",
       "          [0., 0., 0., 0.]],\n",
       "\n",
       "         [[0., 0., 0., 0.],\n",
       "          [0., 0., 0., 0.],\n",
       "          [0., 0., 0., 0.]]]])"
      ]
     },
     "execution_count": 16,
     "metadata": {},
     "output_type": "execute_result"
    }
   ],
   "source": [
    "torch.zeros((2,4,3,4))"
   ]
  },
  {
   "cell_type": "markdown",
   "id": "01fcdab1",
   "metadata": {},
   "source": [
    "Similarly, we can create a tensor with all 1s by invoking ones"
   ]
  },
  {
   "cell_type": "code",
   "execution_count": 17,
   "id": "f68ba294",
   "metadata": {},
   "outputs": [
    {
     "data": {
      "text/plain": [
       "tensor([[[1., 1., 1., 1.],\n",
       "         [1., 1., 1., 1.],\n",
       "         [1., 1., 1., 1.]],\n",
       "\n",
       "        [[1., 1., 1., 1.],\n",
       "         [1., 1., 1., 1.],\n",
       "         [1., 1., 1., 1.]]])"
      ]
     },
     "execution_count": 17,
     "metadata": {},
     "output_type": "execute_result"
    }
   ],
   "source": [
    "torch.ones((2,3,4))"
   ]
  },
  {
   "cell_type": "markdown",
   "id": "d2959217",
   "metadata": {},
   "source": [
    "We often wabt to sample each element randomly (and independently) from a given probability distribution. \n",
    "\n",
    "For example, the **parameters of neural networks are often initialized randomly**. \n",
    "\n",
    "The following snippet creates a tensor with elements drawn from a standard Gaussian (normal) distribution with mean 0 and standard deviation 1."
   ]
  },
  {
   "cell_type": "code",
   "execution_count": 18,
   "id": "c060b117",
   "metadata": {},
   "outputs": [
    {
     "data": {
      "text/plain": [
       "tensor([[-0.7670,  0.5252, -0.9545,  0.1566],\n",
       "        [-1.5705,  0.8614, -0.2079, -0.4664],\n",
       "        [-0.8039, -1.8453, -0.0884,  1.0441]])"
      ]
     },
     "execution_count": 18,
     "metadata": {},
     "output_type": "execute_result"
    }
   ],
   "source": [
    "torch.randn(3,4)"
   ]
  },
  {
   "cell_type": "markdown",
   "id": "7e915476",
   "metadata": {},
   "source": [
    "Finally, we can construct tensors by supplying the exact values for each element by supplying (possibly nested) Python list(s) containing numerical literals. \n",
    "\n",
    "Here, we construct a matrix with a list of lists, where the outermost list corresponds to axis 0, and the inner list corresponds to axis 1."
   ]
  },
  {
   "cell_type": "code",
   "execution_count": 19,
   "id": "a2aa7617",
   "metadata": {},
   "outputs": [
    {
     "data": {
      "text/plain": [
       "tensor([[2, 1, 3, 4],\n",
       "        [1, 2, 3, 4],\n",
       "        [4, 3, 2, 1]])"
      ]
     },
     "execution_count": 19,
     "metadata": {},
     "output_type": "execute_result"
    }
   ],
   "source": [
    "torch.tensor([[2,1,3,4], [1,2,3,4], [4,3,2,1]])"
   ]
  },
  {
   "cell_type": "markdown",
   "id": "dc0499d4",
   "metadata": {},
   "source": [
    "### 2.1.2 Indexing and Slicing"
   ]
  },
  {
   "cell_type": "markdown",
   "id": "f2ef09c2",
   "metadata": {},
   "source": [
    "As with Python lists, can access tensor elements by indexing (starting with 0). \n",
    "\n",
    "To access an element based on its position relative to the end of the list, we can use negative indexing. \n",
    "\n",
    "We can access whole ranges of indices via slicing (e.g., X[start:stop]), where the returned value includes the first index (start) but not the last (stop). \n",
    "\n",
    "When only one index (or slice) is specified for a kth-order tensor, it is applied along axis 0. Thus, in the following code, [-1] selects the last row and [1:3] selects the second and third rows."
   ]
  },
  {
   "cell_type": "code",
   "execution_count": 20,
   "id": "b37a230a",
   "metadata": {},
   "outputs": [
    {
     "data": {
      "text/plain": [
       "tensor([ 8,  9, 10, 11])"
      ]
     },
     "execution_count": 20,
     "metadata": {},
     "output_type": "execute_result"
    }
   ],
   "source": [
    "X[-1]"
   ]
  },
  {
   "cell_type": "code",
   "execution_count": 21,
   "id": "202f109a",
   "metadata": {},
   "outputs": [
    {
     "data": {
      "text/plain": [
       "tensor([[ 4,  5,  6,  7],\n",
       "        [ 8,  9, 10, 11]])"
      ]
     },
     "execution_count": 21,
     "metadata": {},
     "output_type": "execute_result"
    }
   ],
   "source": [
    "X[1:3]"
   ]
  },
  {
   "cell_type": "markdown",
   "id": "11a3339f",
   "metadata": {},
   "source": [
    "Beyond reading them, we can also write elements of a matrix by specifying indices."
   ]
  },
  {
   "cell_type": "code",
   "execution_count": 30,
   "id": "50640bbe",
   "metadata": {},
   "outputs": [
    {
     "data": {
      "text/plain": [
       "tensor([[ 0,  1,  2,  3],\n",
       "        [ 4,  5,  6,  7],\n",
       "        [ 8,  9, 10, 11]])"
      ]
     },
     "execution_count": 30,
     "metadata": {},
     "output_type": "execute_result"
    }
   ],
   "source": [
    "X"
   ]
  },
  {
   "cell_type": "code",
   "execution_count": 31,
   "id": "0c6f7319",
   "metadata": {},
   "outputs": [
    {
     "data": {
      "text/plain": [
       "tensor([[ 0,  1,  2,  3],\n",
       "        [ 4,  5, 17,  7],\n",
       "        [ 8,  9, 10, 11]])"
      ]
     },
     "execution_count": 31,
     "metadata": {},
     "output_type": "execute_result"
    }
   ],
   "source": [
    "X[1,2]= 17 # should change the 6 to a 17\n",
    "X"
   ]
  },
  {
   "cell_type": "code",
   "execution_count": null,
   "id": "0bbb9ba1",
   "metadata": {},
   "outputs": [],
   "source": []
  }
 ],
 "metadata": {
  "kernelspec": {
   "display_name": "Python 3 (ipykernel)",
   "language": "python",
   "name": "python3"
  },
  "language_info": {
   "codemirror_mode": {
    "name": "ipython",
    "version": 3
   },
   "file_extension": ".py",
   "mimetype": "text/x-python",
   "name": "python",
   "nbconvert_exporter": "python",
   "pygments_lexer": "ipython3",
   "version": "3.9.12"
  }
 },
 "nbformat": 4,
 "nbformat_minor": 5
}
