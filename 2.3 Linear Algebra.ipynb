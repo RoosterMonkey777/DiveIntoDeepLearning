{
 "cells": [
  {
   "cell_type": "markdown",
   "id": "08d6eff4",
   "metadata": {},
   "source": [
    "# 2.3 Linear Algebra"
   ]
  },
  {
   "cell_type": "markdown",
   "id": "cd2a7a43",
   "metadata": {},
   "source": [
    "Can load datasets into tensors and manipulate these tensors with basic mathematical operations. To start building sophisticated models, will need a few tools from linear algebra. This section offers a gentle introduction to the most essential concepts"
   ]
  },
  {
   "cell_type": "markdown",
   "id": "a9869f2b",
   "metadata": {},
   "source": [
    "### 2.3.1 Scalers\n",
    "Manipulating numbers one at a time. Formally, we call these values **scalars**.\n",
    "\n",
    "For example, the temperature in Palo Alto is a balmy $72$ degrees Fahrenheit. If you wanted to convert the temperature to Celsius you would evaluate the expression $c = \\frac{5}{9}(f - 32)$, setting $f$ to $72$. In this equation, the values $5$, $9$, and $32$ are constant scalars. The variables $c$ and $f$ in general represent unknown scalars.\n",
    "\n",
    "We denote scalars by ordinary lower-cased letters (e.g., $x$, $y$, and $z$)and the space of all (continuous) *real-valued* scalars by $\\mathbb{R}$.\n",
    "\n",
    "Remember that the expression $x \\in \\mathbb{R}$\n",
    "is a formal way to say that $x$ is a real-valued scalar.\n",
    "The symbol $\\in$ (pronounced \"in\")\n",
    "denotes membership in a set.\n",
    "\n",
    "(**Scalars are implemented as tensors \n",
    "that contain only one element.**)\n",
    "Below, we assign two scalars\n",
    "and perform the familiar addition, multiplication,\n",
    "division, and exponentiation operations."
   ]
  },
  {
   "cell_type": "code",
   "execution_count": 2,
   "id": "7cd30652",
   "metadata": {},
   "outputs": [
    {
     "data": {
      "text/plain": [
       "(tensor(5.), tensor(1.), tensor(6.), tensor(1.5000), tensor(9.))"
      ]
     },
     "execution_count": 2,
     "metadata": {},
     "output_type": "execute_result"
    }
   ],
   "source": [
    "import torch\n",
    "\n",
    "x = torch.tensor(3.0)\n",
    "y = torch.tensor(2.0)\n",
    "x+y, x-y, x*y, x/y, x**y"
   ]
  },
  {
   "cell_type": "markdown",
   "id": "1ff3dc75",
   "metadata": {},
   "source": [
    "### 2.3.2 Vectors\n",
    "\n",
    "[**you can think of a vector as a fixed-length array of scalars.**].\n",
    "Call these scalars the *elements* of the vector\n",
    "\n",
    "For example, if we were training a model to predict the risk of a loan defaulting, might associate each applicant with a vector whose components correspond to quantities like their income, length of employment, or number of previous defaults.\n",
    "\n",
    "If we were studying the risk of heart attack, each vector might represent a patient and its components might correspond to\n",
    "their most recent vital signs, cholesterol levels, minutes of exercise per day, etc.\n",
    "\n",
    "We denote vectors by bold lowercase letters, \n",
    "(e.g., $\\mathbf{x}$, $\\mathbf{y}$, and $\\mathbf{z}$).\n",
    "\n",
    "Vectors are implemented as $1^{\\textrm{st}}$-order tensors.\n",
    "\n",
    "In general, such tensors can have arbitrary lengths,\n",
    "subject to memory limitations. Caution: in Python, as in most programming languages, vector indices start at $0$, also known as *zero-based indexing*, whereas in linear algebra subscripts begin at $1$ (one-based indexing).\n"
   ]
  },
  {
   "cell_type": "code",
   "execution_count": 5,
   "id": "e4000555",
   "metadata": {},
   "outputs": [],
   "source": [
    "x = torch.arange(3)"
   ]
  },
  {
   "cell_type": "markdown",
   "id": "7c610132",
   "metadata": {},
   "source": [
    "We can refer to an element of a vector by using a subscript.\n",
    "For example, $x_2$ denotes the second element of $\\mathbf{x}$. \n",
    "Since $x_2$ is a scalar, we do not bold it.\n",
    "By default, we visualize vectors \n",
    "by stacking their elements vertically.\n",
    "\n",
    "$$\\mathbf{x} =\\begin{bmatrix}x_{1}  \\\\ \\vdots  \\\\x_{n}\\end{bmatrix},$$\n",
    "\n",
    "\n",
    "Here $x_1, \\ldots, x_n$ are elements of the vector.\n",
    "Later on, we will distinguish between such *column vectors*\n",
    "and *row vectors* whose elements are stacked horizontally.\n",
    "Recall that [**we access a tensor's elements via indexing.**]"
   ]
  },
  {
   "cell_type": "code",
   "execution_count": 6,
   "id": "36b3c853",
   "metadata": {},
   "outputs": [
    {
     "data": {
      "text/plain": [
       "tensor(2)"
      ]
     },
     "execution_count": 6,
     "metadata": {},
     "output_type": "execute_result"
    }
   ],
   "source": [
    "x[2]"
   ]
  },
  {
   "cell_type": "markdown",
   "id": "b05562b6",
   "metadata": {},
   "source": [
    "To indicate that a vector contains $n$ elements,\n",
    "we write $\\mathbf{x} \\in \\mathbb{R}^n$.\n",
    "\n",
    "Formally, we call $n$ the *dimensionality* of the vector.\n",
    "[**In code, this corresponds to the tensor's length**],\n",
    "accessible via Python's built-in `len` function."
   ]
  },
  {
   "cell_type": "code",
   "execution_count": 7,
   "id": "c9a5a849",
   "metadata": {},
   "outputs": [
    {
     "data": {
      "text/plain": [
       "3"
      ]
     },
     "execution_count": 7,
     "metadata": {},
     "output_type": "execute_result"
    }
   ],
   "source": [
    "len(x)"
   ]
  },
  {
   "cell_type": "markdown",
   "id": "75763c1d",
   "metadata": {},
   "source": [
    "Can also access the length via the shape attribute. The shape is a tuple that indicates a tensor’s length along each axis. Tensors with just one axis have shapes with just one element."
   ]
  },
  {
   "cell_type": "code",
   "execution_count": 8,
   "id": "f28de569",
   "metadata": {},
   "outputs": [
    {
     "data": {
      "text/plain": [
       "torch.Size([3])"
      ]
     },
     "execution_count": 8,
     "metadata": {},
     "output_type": "execute_result"
    }
   ],
   "source": [
    "x.shape"
   ]
  },
  {
   "cell_type": "markdown",
   "id": "7c416ae2",
   "metadata": {},
   "source": [
    "The word “dimension” gets overloaded to mean both the number of axes and the length along a particular axis. \n",
    "\n",
    "To avoid this confusion, we use **order** to refer to the number of axes and **dimensionality** exclusively to refer to the number of components."
   ]
  },
  {
   "cell_type": "markdown",
   "id": "22e2da0b",
   "metadata": {},
   "source": [
    "### 2.3.3 Matrices\n",
    "\n",
    "Scalars are $0^{\\textrm{th}}$-order tensors and vectors are $1^{\\textrm{st}}$-order tensors, matrices are $2^{\\textrm{nd}}$-order tensors.\n",
    "\n",
    "Denote matrices by bold capital letters (e.g., $\\mathbf{X}$, $\\mathbf{Y}$, and $\\mathbf{Z}$), and represent them in code by tensors with two axes.\n",
    "\n",
    "The expression $\\mathbf{A} \\in \\mathbb{R}^{m \\times n}$\n",
    "indicates that a matrix $\\mathbf{A}$ contains $m \\times n$ real-valued scalars, arranged as $m$ rows and $n$ columns.\n",
    "\n",
    "When $m = n$, we say that a matrix is *square*.\n",
    "\n",
    "Visually, can illustrate any matrix as a table. To refer to an individual element,we subscript both the row and column indices, e.g.,\n",
    "$a_{ij}$ is the value that belongs to $\\mathbf{A}$'s\n",
    "$i^{\\textrm{th}}$ row and $j^{\\textrm{th}}$ column:\n",
    "\n",
    "$$\\mathbf{A}=\\begin{bmatrix} a_{11} & a_{12} & \\cdots & a_{1n} \\\\ a_{21} & a_{22} & \\cdots & a_{2n} \\\\ \\vdots & \\vdots & \\ddots & \\vdots \\\\ a_{m1} & a_{m2} & \\cdots & a_{mn} \\\\ \\end{bmatrix}.$$\n",
    "\n",
    "\n",
    "In code, we represent a matrix $\\mathbf{A} \\in \\mathbb{R}^{m \\times n}$\n",
    "by a $2^{\\textrm{nd}}$-order tensor with shape ($m$, $n$).\n",
    "[**We can convert any appropriately sized $m \\times n$ tensor \n",
    "into an $m \\times n$ matrix**] \n",
    "by passing the desired shape to `reshape`:\n"
   ]
  },
  {
   "cell_type": "code",
   "execution_count": 9,
   "id": "88ad55b5",
   "metadata": {},
   "outputs": [
    {
     "data": {
      "text/plain": [
       "tensor([[0, 1],\n",
       "        [2, 3],\n",
       "        [4, 5]])"
      ]
     },
     "execution_count": 9,
     "metadata": {},
     "output_type": "execute_result"
    }
   ],
   "source": [
    "A = torch.arange(6).reshape(3,2)\n",
    "A"
   ]
  },
  {
   "cell_type": "markdown",
   "id": "31a82d78",
   "metadata": {},
   "source": [
    "Sometimes we want to flip the axes. When exchange a matrix's rows and columns, the result is called its *transpose*.\n",
    "\n",
    "Formally, we signify a matrix $\\mathbf{A}$'s transpose by $\\mathbf{A}^\\top$ and if $\\mathbf{B} = \\mathbf{A}^\\top$, then $b_{ij} = a_{ji}$ for all $i$ and $j$.\n",
    "\n",
    "Thus, the transpose of an $m \\times n$ matrix is an $n \\times m$ matrix:\n",
    "\n",
    "$$\n",
    "\\mathbf{A}^\\top =\n",
    "\\begin{bmatrix}\n",
    "    a_{11} & a_{21} & \\dots  & a_{m1} \\\\\n",
    "    a_{12} & a_{22} & \\dots  & a_{m2} \\\\\n",
    "    \\vdots & \\vdots & \\ddots  & \\vdots \\\\\n",
    "    a_{1n} & a_{2n} & \\dots  & a_{mn}\n",
    "\\end{bmatrix}.\n",
    "$$\n",
    "\n",
    "In code, we can access any (**matrix's transpose**) as follows:"
   ]
  },
  {
   "cell_type": "code",
   "execution_count": 10,
   "id": "d621d384",
   "metadata": {},
   "outputs": [
    {
     "data": {
      "text/plain": [
       "tensor([[0, 2, 4],\n",
       "        [1, 3, 5]])"
      ]
     },
     "execution_count": 10,
     "metadata": {},
     "output_type": "execute_result"
    }
   ],
   "source": [
    "A.T"
   ]
  },
  {
   "cell_type": "markdown",
   "id": "b9836360",
   "metadata": {},
   "source": [
    "[**Symmetric matrices are the subset of square matrices\n",
    "that are equal to their own transposes:\n",
    "$\\mathbf{A} = \\mathbf{A}^\\top$.**]\n",
    "The following matrix is symmetric:"
   ]
  },
  {
   "cell_type": "code",
   "execution_count": 12,
   "id": "a4df5dfa",
   "metadata": {},
   "outputs": [],
   "source": [
    "A = torch.tensor([[1,2,3],[2,0,4],[3,4,5]])"
   ]
  },
  {
   "cell_type": "code",
   "execution_count": 13,
   "id": "c7d99bff",
   "metadata": {},
   "outputs": [
    {
     "data": {
      "text/plain": [
       "tensor([[True, True, True],\n",
       "        [True, True, True],\n",
       "        [True, True, True]])"
      ]
     },
     "execution_count": 13,
     "metadata": {},
     "output_type": "execute_result"
    }
   ],
   "source": [
    "A == A.T"
   ]
  },
  {
   "cell_type": "markdown",
   "id": "97295880",
   "metadata": {},
   "source": [
    "Matrices are useful for representing datasets. \n",
    "\n",
    "Typically, rows correspond to individual records and columns correspond to distinct attributes."
   ]
  },
  {
   "cell_type": "markdown",
   "id": "d0515361",
   "metadata": {},
   "source": [
    "### 2.3.4 Tensors\n",
    "\n",
    "May need to work with higher-order [**tensors**]. Tensors (**give us a generic way of describing extensions to $n^{\\textrm{th}}$-order arrays.**)\n",
    "\n",
    "Call software objects of the *tensor class* \"tensors\" precisely because they too can have arbitrary numbers of axes.\n",
    "\n",
    "Denote general tensors by capital letters with a special font face\n",
    "(e.g., $\\mathsf{X}$, $\\mathsf{Y}$, and $\\mathsf{Z}$)and their indexing mechanism (e.g., $x_{ijk}$ and $[\\mathsf{X}]_{1, 2i-1, 3}$) \n",
    "follows naturally from that of matrices.\n",
    "\n",
    "Tensors will become more important when working with images. Each image arrives as a $3^{\\textrm{rd}}$-order tensor with axes corresponding to the height, width, and *channel*. At each spatial location, the intensities of each color (red, green, and blue)\n",
    "are stacked along the channel. \n",
    "\n",
    "Furthermore, a collection of images is represented in code by a $4^{\\textrm{th}}$-order tensor, where distinct images are indexed\n",
    "along the first axis.\n",
    "\n",
    "Higher-order tensors are constructed, as were vectors and matrices,\n",
    "by growing the number of shape components."
   ]
  },
  {
   "cell_type": "code",
   "execution_count": 14,
   "id": "b954a787",
   "metadata": {},
   "outputs": [
    {
     "data": {
      "text/plain": [
       "tensor([[[ 0,  1,  2,  3],\n",
       "         [ 4,  5,  6,  7],\n",
       "         [ 8,  9, 10, 11]],\n",
       "\n",
       "        [[12, 13, 14, 15],\n",
       "         [16, 17, 18, 19],\n",
       "         [20, 21, 22, 23]]])"
      ]
     },
     "execution_count": 14,
     "metadata": {},
     "output_type": "execute_result"
    }
   ],
   "source": [
    "torch.arange(24).reshape(2,3,4)"
   ]
  },
  {
   "cell_type": "markdown",
   "id": "a22ee41d",
   "metadata": {},
   "source": [
    "### 2.3.5 Basic Properties of Tensor Arithmetic\n",
    "\n",
    "Scalars, vectors, matrices, and higher-order tensors\n",
    "all have some handy properties. \n",
    "\n",
    "For example, elementwise operations produce outputs that have the \n",
    "same shape as their operands."
   ]
  },
  {
   "cell_type": "code",
   "execution_count": 15,
   "id": "589abc7a",
   "metadata": {},
   "outputs": [],
   "source": [
    "A = torch.arange(6, dtype=torch.float32).reshape(2,3)\n",
    "B = A.clone()"
   ]
  },
  {
   "cell_type": "code",
   "execution_count": 16,
   "id": "2040c030",
   "metadata": {},
   "outputs": [
    {
     "data": {
      "text/plain": [
       "tensor([[0., 1., 2.],\n",
       "        [3., 4., 5.]])"
      ]
     },
     "execution_count": 16,
     "metadata": {},
     "output_type": "execute_result"
    }
   ],
   "source": [
    "A"
   ]
  },
  {
   "cell_type": "code",
   "execution_count": 19,
   "id": "b06f3ed1",
   "metadata": {},
   "outputs": [
    {
     "data": {
      "text/plain": [
       "tensor([[0., 1., 2.],\n",
       "        [3., 4., 5.]])"
      ]
     },
     "execution_count": 19,
     "metadata": {},
     "output_type": "execute_result"
    }
   ],
   "source": [
    "B"
   ]
  },
  {
   "cell_type": "code",
   "execution_count": 20,
   "id": "1a7f8887",
   "metadata": {},
   "outputs": [
    {
     "data": {
      "text/plain": [
       "(tensor([[0., 1., 2.],\n",
       "         [3., 4., 5.]]),\n",
       " tensor([[ 0.,  2.,  4.],\n",
       "         [ 6.,  8., 10.]]))"
      ]
     },
     "execution_count": 20,
     "metadata": {},
     "output_type": "execute_result"
    }
   ],
   "source": [
    "A, A+B"
   ]
  },
  {
   "cell_type": "markdown",
   "id": "79a7b685",
   "metadata": {},
   "source": [
    "The [**elementwise product of two matrices\n",
    "is called their *Hadamard product***] (denoted $\\odot$).\n",
    "We can spell out the entries \n",
    "of the Hadamard product of two matrices \n",
    "$\\mathbf{A}, \\mathbf{B} \\in \\mathbb{R}^{m \\times n}$:\n",
    "\n",
    "\n",
    "\n",
    "$$\n",
    "\\mathbf{A} \\odot \\mathbf{B} =\n",
    "\\begin{bmatrix}\n",
    "    a_{11}  b_{11} & a_{12}  b_{12} & \\dots  & a_{1n}  b_{1n} \\\\\n",
    "    a_{21}  b_{21} & a_{22}  b_{22} & \\dots  & a_{2n}  b_{2n} \\\\\n",
    "    \\vdots & \\vdots & \\ddots & \\vdots \\\\\n",
    "    a_{m1}  b_{m1} & a_{m2}  b_{m2} & \\dots  & a_{mn}  b_{mn}\n",
    "\\end{bmatrix}.\n",
    "$$"
   ]
  },
  {
   "cell_type": "code",
   "execution_count": 21,
   "id": "42109117",
   "metadata": {},
   "outputs": [
    {
     "data": {
      "text/plain": [
       "tensor([[ 0.,  1.,  4.],\n",
       "        [ 9., 16., 25.]])"
      ]
     },
     "execution_count": 21,
     "metadata": {},
     "output_type": "execute_result"
    }
   ],
   "source": [
    "A * B"
   ]
  },
  {
   "cell_type": "markdown",
   "id": "29d9e4fd",
   "metadata": {},
   "source": [
    "Adding or multiplying a scalar and a tensor produces a result with the same shape as the original tensor. Here, each element of the tensor is added to (or multiplied by) the scalar."
   ]
  },
  {
   "cell_type": "code",
   "execution_count": 22,
   "id": "c4aff7c6",
   "metadata": {},
   "outputs": [
    {
     "data": {
      "text/plain": [
       "tensor([[[ 0,  1,  2,  3],\n",
       "         [ 4,  5,  6,  7],\n",
       "         [ 8,  9, 10, 11]],\n",
       "\n",
       "        [[12, 13, 14, 15],\n",
       "         [16, 17, 18, 19],\n",
       "         [20, 21, 22, 23]]])"
      ]
     },
     "execution_count": 22,
     "metadata": {},
     "output_type": "execute_result"
    }
   ],
   "source": [
    "a = 2 \n",
    "X = torch.arange(24).reshape(2,3,4)\n",
    "X"
   ]
  },
  {
   "cell_type": "code",
   "execution_count": 23,
   "id": "06d7f526",
   "metadata": {},
   "outputs": [
    {
     "data": {
      "text/plain": [
       "tensor([[[ 2,  3,  4,  5],\n",
       "         [ 6,  7,  8,  9],\n",
       "         [10, 11, 12, 13]],\n",
       "\n",
       "        [[14, 15, 16, 17],\n",
       "         [18, 19, 20, 21],\n",
       "         [22, 23, 24, 25]]])"
      ]
     },
     "execution_count": 23,
     "metadata": {},
     "output_type": "execute_result"
    }
   ],
   "source": [
    "a + X"
   ]
  },
  {
   "cell_type": "code",
   "execution_count": 25,
   "id": "6a731143",
   "metadata": {},
   "outputs": [
    {
     "data": {
      "text/plain": [
       "tensor([[[ 0,  2,  4,  6],\n",
       "         [ 8, 10, 12, 14],\n",
       "         [16, 18, 20, 22]],\n",
       "\n",
       "        [[24, 26, 28, 30],\n",
       "         [32, 34, 36, 38],\n",
       "         [40, 42, 44, 46]]])"
      ]
     },
     "execution_count": 25,
     "metadata": {},
     "output_type": "execute_result"
    }
   ],
   "source": [
    "a*X"
   ]
  },
  {
   "cell_type": "code",
   "execution_count": 26,
   "id": "dfa94b5a",
   "metadata": {},
   "outputs": [
    {
     "data": {
      "text/plain": [
       "torch.Size([2, 3, 4])"
      ]
     },
     "execution_count": 26,
     "metadata": {},
     "output_type": "execute_result"
    }
   ],
   "source": [
    "(a*X).shape"
   ]
  },
  {
   "cell_type": "markdown",
   "id": "46168707",
   "metadata": {},
   "source": [
    "### 2.3.6 Reduction\n",
    "\n",
    "Often, want to calculate [**the sum of a tensor's elements.**]\n",
    "To express the sum of the elements in a vector $\\mathbf{x}$ of length $n$, write $\\sum_{i=1}^n x_i$. \n",
    "\n",
    "There is a simple function for it:"
   ]
  },
  {
   "cell_type": "code",
   "execution_count": 27,
   "id": "8b61be13",
   "metadata": {},
   "outputs": [
    {
     "data": {
      "text/plain": [
       "tensor([[0., 1., 2.],\n",
       "        [3., 4., 5.]])"
      ]
     },
     "execution_count": 27,
     "metadata": {},
     "output_type": "execute_result"
    }
   ],
   "source": [
    "A"
   ]
  },
  {
   "cell_type": "code",
   "execution_count": 28,
   "id": "9d6a908b",
   "metadata": {},
   "outputs": [],
   "source": [
    "x = torch.arange(3, dtype=torch.float32)"
   ]
  },
  {
   "cell_type": "code",
   "execution_count": 30,
   "id": "008a17b3",
   "metadata": {},
   "outputs": [
    {
     "data": {
      "text/plain": [
       "(tensor([0., 1., 2.]), tensor(3.))"
      ]
     },
     "execution_count": 30,
     "metadata": {},
     "output_type": "execute_result"
    }
   ],
   "source": [
    "x, x.sum()"
   ]
  },
  {
   "cell_type": "markdown",
   "id": "21e79eb6",
   "metadata": {},
   "source": [
    "To express [**sums over the elements of tensors of arbitrary shape**],\n",
    "simply sum over all its axes. \n",
    "\n",
    "For example, the sum of the elements of an $m \\times n$ matrix $\\mathbf{A}$ could be written $\\sum_{i=1}^{m} \\sum_{j=1}^{n} a_{ij}$."
   ]
  },
  {
   "cell_type": "code",
   "execution_count": 31,
   "id": "5998ff9d",
   "metadata": {},
   "outputs": [
    {
     "data": {
      "text/plain": [
       "torch.Size([2, 3])"
      ]
     },
     "execution_count": 31,
     "metadata": {},
     "output_type": "execute_result"
    }
   ],
   "source": [
    "A.shape"
   ]
  },
  {
   "cell_type": "code",
   "execution_count": 32,
   "id": "30470faa",
   "metadata": {},
   "outputs": [
    {
     "data": {
      "text/plain": [
       "tensor(15.)"
      ]
     },
     "execution_count": 32,
     "metadata": {},
     "output_type": "execute_result"
    }
   ],
   "source": [
    "A.sum()"
   ]
  },
  {
   "cell_type": "markdown",
   "id": "14077655",
   "metadata": {},
   "source": [
    "By default, invoking the sum function *reduces* a tensor along all of its axes, eventually producing a scalar.\n",
    "\n",
    "Our libraries also allow us to [**specify the axes along which the tensor should be reduced.**]\n",
    "\n",
    "To sum over all elements along the rows (axis 0), we specify `axis=0` in `sum`. Since the input matrix reduces along axis 0 to generate the output vector, this axis is missing from the shape of the output."
   ]
  },
  {
   "cell_type": "code",
   "execution_count": 33,
   "id": "e6af93db",
   "metadata": {},
   "outputs": [
    {
     "data": {
      "text/plain": [
       "torch.Size([2, 3])"
      ]
     },
     "execution_count": 33,
     "metadata": {},
     "output_type": "execute_result"
    }
   ],
   "source": [
    "A.shape"
   ]
  },
  {
   "cell_type": "code",
   "execution_count": 34,
   "id": "6d934562",
   "metadata": {},
   "outputs": [
    {
     "data": {
      "text/plain": [
       "torch.Size([3])"
      ]
     },
     "execution_count": 34,
     "metadata": {},
     "output_type": "execute_result"
    }
   ],
   "source": [
    "A.sum(axis=0).shape"
   ]
  },
  {
   "cell_type": "code",
   "execution_count": 35,
   "id": "d93377eb",
   "metadata": {},
   "outputs": [
    {
     "data": {
      "text/plain": [
       "tensor(15.)"
      ]
     },
     "execution_count": 35,
     "metadata": {},
     "output_type": "execute_result"
    }
   ],
   "source": [
    "A.sum()"
   ]
  },
  {
   "cell_type": "code",
   "execution_count": 36,
   "id": "97680d02",
   "metadata": {},
   "outputs": [
    {
     "data": {
      "text/plain": [
       "tensor([3., 5., 7.])"
      ]
     },
     "execution_count": 36,
     "metadata": {},
     "output_type": "execute_result"
    }
   ],
   "source": [
    "A.sum(axis=0)"
   ]
  },
  {
   "cell_type": "markdown",
   "id": "0dcd5b9f",
   "metadata": {},
   "source": [
    "Specifying `axis=1` will reduce the column dimension (axis 1) by summing up elements of all the columns."
   ]
  },
  {
   "cell_type": "code",
   "execution_count": 37,
   "id": "44aa0ea5",
   "metadata": {},
   "outputs": [
    {
     "data": {
      "text/plain": [
       "torch.Size([2, 3])"
      ]
     },
     "execution_count": 37,
     "metadata": {},
     "output_type": "execute_result"
    }
   ],
   "source": [
    "A.shape"
   ]
  },
  {
   "cell_type": "code",
   "execution_count": 38,
   "id": "ec074c9d",
   "metadata": {},
   "outputs": [
    {
     "data": {
      "text/plain": [
       "tensor([ 3., 12.])"
      ]
     },
     "execution_count": 38,
     "metadata": {},
     "output_type": "execute_result"
    }
   ],
   "source": [
    "A.sum(axis=1)"
   ]
  },
  {
   "cell_type": "code",
   "execution_count": 39,
   "id": "0c8c4866",
   "metadata": {},
   "outputs": [
    {
     "data": {
      "text/plain": [
       "tensor([[0., 1., 2.],\n",
       "        [3., 4., 5.]])"
      ]
     },
     "execution_count": 39,
     "metadata": {},
     "output_type": "execute_result"
    }
   ],
   "source": [
    "A"
   ]
  },
  {
   "cell_type": "code",
   "execution_count": 40,
   "id": "c928a467",
   "metadata": {},
   "outputs": [
    {
     "data": {
      "text/plain": [
       "torch.Size([2])"
      ]
     },
     "execution_count": 40,
     "metadata": {},
     "output_type": "execute_result"
    }
   ],
   "source": [
    "A.sum(axis=1).shape"
   ]
  },
  {
   "cell_type": "markdown",
   "id": "f487a5c7",
   "metadata": {},
   "source": [
    "Reducing a matrix along both rows and columns via summation is equivalent to summing up all the elements of the matrix."
   ]
  },
  {
   "cell_type": "code",
   "execution_count": 41,
   "id": "c5395433",
   "metadata": {},
   "outputs": [
    {
     "data": {
      "text/plain": [
       "tensor(True)"
      ]
     },
     "execution_count": 41,
     "metadata": {},
     "output_type": "execute_result"
    }
   ],
   "source": [
    "A.sum(axis=[0, 1]) == A.sum()  # Same as A.sum()"
   ]
  },
  {
   "cell_type": "markdown",
   "id": "4366847a",
   "metadata": {},
   "source": [
    "A related quantity is the **mean**, also called the **average**.\n",
    "\n",
    "Calculate the mean by dividing the sum by the total number of elements. Because computing the mean is so common, it gets a dedicated library function that works analogously to sum."
   ]
  },
  {
   "cell_type": "code",
   "execution_count": 42,
   "id": "7d49cf9f",
   "metadata": {},
   "outputs": [
    {
     "data": {
      "text/plain": [
       "(tensor(2.5000), tensor(2.5000))"
      ]
     },
     "execution_count": 42,
     "metadata": {},
     "output_type": "execute_result"
    }
   ],
   "source": [
    "A.mean(), A.sum() / A.numel()"
   ]
  },
  {
   "cell_type": "markdown",
   "id": "1b0c95e8",
   "metadata": {},
   "source": [
    "Likewise, the function for calculating the mean can also reduce a tensor along specific axes."
   ]
  },
  {
   "cell_type": "code",
   "execution_count": 43,
   "id": "b991915f",
   "metadata": {},
   "outputs": [
    {
     "data": {
      "text/plain": [
       "(tensor([1.5000, 2.5000, 3.5000]), tensor([1.5000, 2.5000, 3.5000]))"
      ]
     },
     "execution_count": 43,
     "metadata": {},
     "output_type": "execute_result"
    }
   ],
   "source": [
    "A.mean(axis=0), A.sum(axis=0) / A.shape[0]"
   ]
  },
  {
   "cell_type": "code",
   "execution_count": 44,
   "id": "85de87f1",
   "metadata": {},
   "outputs": [
    {
     "data": {
      "text/plain": [
       "2"
      ]
     },
     "execution_count": 44,
     "metadata": {},
     "output_type": "execute_result"
    }
   ],
   "source": [
    "A.shape[0]"
   ]
  },
  {
   "cell_type": "markdown",
   "id": "3c52d202",
   "metadata": {},
   "source": [
    "### 2.3.7 Non-Reduction Sum"
   ]
  },
  {
   "cell_type": "markdown",
   "id": "ba080a49",
   "metadata": {},
   "source": [
    "Sometimes it can be useful to [**keep the number of axes unchanged**]\n",
    "when invoking the function for calculating the sum or mean. \n",
    "This matters when we want to use the broadcast mechanism."
   ]
  },
  {
   "cell_type": "code",
   "execution_count": 49,
   "id": "f484a41f",
   "metadata": {},
   "outputs": [
    {
     "data": {
      "text/plain": [
       "(tensor([[ 3.],\n",
       "         [12.]]),\n",
       " torch.Size([2, 1]))"
      ]
     },
     "execution_count": 49,
     "metadata": {},
     "output_type": "execute_result"
    }
   ],
   "source": [
    "sum_A = A.sum(axis=1, keepdims=True)\n",
    "sum_A, sum_A.shape"
   ]
  },
  {
   "cell_type": "code",
   "execution_count": 48,
   "id": "e358944c",
   "metadata": {},
   "outputs": [
    {
     "data": {
      "text/plain": [
       "tensor([[0., 1., 2.],\n",
       "        [3., 4., 5.]])"
      ]
     },
     "execution_count": 48,
     "metadata": {},
     "output_type": "execute_result"
    }
   ],
   "source": [
    "A"
   ]
  },
  {
   "cell_type": "markdown",
   "id": "cfc02b53",
   "metadata": {},
   "source": [
    "For instance, since `sum_A` keeps its two axes after summing each row,\n",
    "we can (**divide `A` by `sum_A` with broadcasting**) \n",
    "to create a matrix where each row sums up to $1$."
   ]
  },
  {
   "cell_type": "code",
   "execution_count": 50,
   "id": "468d4db9",
   "metadata": {},
   "outputs": [
    {
     "data": {
      "text/plain": [
       "tensor([[0.0000, 0.3333, 0.6667],\n",
       "        [0.2500, 0.3333, 0.4167]])"
      ]
     },
     "execution_count": 50,
     "metadata": {},
     "output_type": "execute_result"
    }
   ],
   "source": [
    "A / sum_A"
   ]
  },
  {
   "cell_type": "markdown",
   "id": "990b3e1f",
   "metadata": {},
   "source": [
    "If we want to calculate [**the cumulative sum of elements of `A` along some axis**],\n",
    "say `axis=0` (row by row), we can call the `cumsum` function.\n",
    "By design, this function does not reduce the input tensor along any axis."
   ]
  },
  {
   "cell_type": "code",
   "execution_count": 53,
   "id": "a3e33e62",
   "metadata": {},
   "outputs": [
    {
     "data": {
      "text/plain": [
       "tensor([[0., 1., 2.],\n",
       "        [3., 5., 7.]])"
      ]
     },
     "execution_count": 53,
     "metadata": {},
     "output_type": "execute_result"
    }
   ],
   "source": [
    "A.cumsum(axis=0)"
   ]
  },
  {
   "cell_type": "code",
   "execution_count": 54,
   "id": "25aed332",
   "metadata": {},
   "outputs": [
    {
     "data": {
      "text/plain": [
       "tensor([[0., 1., 2.],\n",
       "        [3., 4., 5.]])"
      ]
     },
     "execution_count": 54,
     "metadata": {},
     "output_type": "execute_result"
    }
   ],
   "source": [
    "A"
   ]
  },
  {
   "cell_type": "code",
   "execution_count": 55,
   "id": "d0acc5b9",
   "metadata": {},
   "outputs": [
    {
     "data": {
      "text/plain": [
       "tensor([[ 0.,  1.,  3.],\n",
       "        [ 3.,  7., 12.]])"
      ]
     },
     "execution_count": 55,
     "metadata": {},
     "output_type": "execute_result"
    }
   ],
   "source": [
    "A.cumsum(axis=1)"
   ]
  },
  {
   "cell_type": "markdown",
   "id": "b37a2582",
   "metadata": {},
   "source": [
    "### 2.3.8 Dot Product\n",
    "\n",
    "So far, only performed elementwise operations, sums, and averages. \n",
    "\n",
    "One of the most fundamental operations is the dot product.\n",
    "\n",
    "Given two vectors $\\mathbf{x}, \\mathbf{y} \\in \\mathbb{R}^d$,\n",
    "their *dot product* $\\mathbf{x}^\\top \\mathbf{y}$ (also known as *inner product*, $\\langle \\mathbf{x}, \\mathbf{y}  \\rangle$) is a sum over the products of the elements at the same position: \n",
    "$\\mathbf{x}^\\top \\mathbf{y} = \\sum_{i=1}^{d} x_i y_i$.\n",
    "\n",
    "\n",
    "- x = torch.arange(start, start + length * step, step, dtype=torch.float32)"
   ]
  },
  {
   "cell_type": "code",
   "execution_count": 64,
   "id": "f95192ed",
   "metadata": {},
   "outputs": [
    {
     "data": {
      "text/plain": [
       "tensor([1., 2., 3.])"
      ]
     },
     "execution_count": 64,
     "metadata": {},
     "output_type": "execute_result"
    }
   ],
   "source": [
    "x = torch.arange(1, 4, dtype=torch.float32)\n",
    "x"
   ]
  },
  {
   "cell_type": "code",
   "execution_count": 62,
   "id": "5551b239",
   "metadata": {},
   "outputs": [
    {
     "data": {
      "text/plain": [
       "tensor([4., 5., 6.])"
      ]
     },
     "execution_count": 62,
     "metadata": {},
     "output_type": "execute_result"
    }
   ],
   "source": [
    "y = torch.arange(4, 4+3*1, 1,  dtype=torch.float32)\n",
    "y"
   ]
  },
  {
   "cell_type": "code",
   "execution_count": 65,
   "id": "f506d1b6",
   "metadata": {},
   "outputs": [
    {
     "data": {
      "text/plain": [
       "(tensor([1., 2., 3.]), tensor([4., 5., 6.]), tensor(32.))"
      ]
     },
     "execution_count": 65,
     "metadata": {},
     "output_type": "execute_result"
    }
   ],
   "source": [
    "x,y, torch.dot(x,y)"
   ]
  },
  {
   "cell_type": "markdown",
   "id": "7f73d43b",
   "metadata": {},
   "source": [
    "Equivalently, (**we can calculate the dot product of two vectors \n",
    "by performing an elementwise multiplication followed by a sum:**)"
   ]
  },
  {
   "cell_type": "code",
   "execution_count": 68,
   "id": "7ddd751c",
   "metadata": {},
   "outputs": [
    {
     "data": {
      "text/plain": [
       "tensor(32.)"
      ]
     },
     "execution_count": 68,
     "metadata": {},
     "output_type": "execute_result"
    }
   ],
   "source": [
    "z = torch.sum(x*y)\n",
    "z"
   ]
  },
  {
   "cell_type": "markdown",
   "id": "62921ca6",
   "metadata": {},
   "source": [
    "Useful in a wide range of contexts.\n",
    "\n",
    "For example, given some set of values, denoted by a vector $\\mathbf{x}  \\in \\mathbb{R}^n$, and a set of weights, denoted by $\\mathbf{w} \\in \\mathbb{R}^n$, the weighted sum of the values in $\\mathbf{x}$\n",
    "according to the weights $\\mathbf{w}$ could be expressed as the dot product $\\mathbf{x}^\\top \\mathbf{w}$.\n",
    "\n",
    "When the weights are nonnegative and sum to $1$, i.e., $\\left(\\sum_{i=1}^{n} {w_i} = 1\\right)$, the dot product expresses a *weighted average*.\n",
    "\n",
    "After normalizing two vectors to have unit length, the dot products express the cosine of the angle between them.\n",
    "\n"
   ]
  },
  {
   "cell_type": "markdown",
   "id": "e9b93142",
   "metadata": {},
   "source": [
    "### 2.3.9 Matrix-Vector Products"
   ]
  },
  {
   "cell_type": "markdown",
   "id": "6033af03",
   "metadata": {},
   "source": [
    "Can begin to understand the *product*\n",
    "between an $m \\times n$ matrix $\\mathbf{A}$ \n",
    "and an $n$-dimensional vector $\\mathbf{x}$.\n",
    "To start off, we visualize our matrix\n",
    "in terms of its row vectors\n",
    "\n",
    "$$\\mathbf{A}=\n",
    "\\begin{bmatrix}\n",
    "\\mathbf{a}^\\top_{1} \\\\\n",
    "\\mathbf{a}^\\top_{2} \\\\\n",
    "\\vdots \\\\\n",
    "\\mathbf{a}^\\top_m \\\\\n",
    "\\end{bmatrix},$$\n",
    "\n",
    "where each $\\mathbf{a}^\\top_{i} \\in \\mathbb{R}^n$\n",
    "is a row vector representing the $i^\\textrm{th}$ row \n",
    "of the matrix $\\mathbf{A}$.\n",
    "\n",
    "[**The matrix--vector product $\\mathbf{A}\\mathbf{x}$\n",
    "is simply a column vector of length $m$,\n",
    "whose $i^\\textrm{th}$ element is the dot product \n",
    "$\\mathbf{a}^\\top_i \\mathbf{x}$:**]\n",
    "\n",
    "$$\n",
    "\\mathbf{A}\\mathbf{x}\n",
    "= \\begin{bmatrix}\n",
    "\\mathbf{a}^\\top_{1} \\\\\n",
    "\\mathbf{a}^\\top_{2} \\\\\n",
    "\\vdots \\\\\n",
    "\\mathbf{a}^\\top_m \\\\\n",
    "\\end{bmatrix}\\mathbf{x}\n",
    "= \\begin{bmatrix}\n",
    " \\mathbf{a}^\\top_{1} \\mathbf{x}  \\\\\n",
    " \\mathbf{a}^\\top_{2} \\mathbf{x} \\\\\n",
    "\\vdots\\\\\n",
    " \\mathbf{a}^\\top_{m} \\mathbf{x}\\\\\n",
    "\\end{bmatrix}.\n",
    "$$\n",
    "\n",
    "We can think of multiplication with a matrix\n",
    "$\\mathbf{A}\\in \\mathbb{R}^{m \\times n}$\n",
    "as a transformation that projects vectors\n",
    "from $\\mathbb{R}^{n}$ to $\\mathbb{R}^{m}$.\n",
    "\n",
    "These transformations are remarkably useful. For example, we can represent rotations as multiplications by certain square matrices.\n",
    "\n",
    "Matrix--vector products also describe the key calculation involved in computing the outputs of each layer in a neural network given the outputs from the previous layer."
   ]
  },
  {
   "cell_type": "code",
   "execution_count": 76,
   "id": "34fefa54",
   "metadata": {},
   "outputs": [
    {
     "data": {
      "text/plain": [
       "(torch.Size([2, 3]), torch.Size([3]))"
      ]
     },
     "execution_count": 76,
     "metadata": {},
     "output_type": "execute_result"
    }
   ],
   "source": [
    "A.shape, x.shape"
   ]
  },
  {
   "cell_type": "code",
   "execution_count": 77,
   "id": "81dea9cb",
   "metadata": {},
   "outputs": [
    {
     "data": {
      "text/plain": [
       "tensor([ 8., 26.])"
      ]
     },
     "execution_count": 77,
     "metadata": {},
     "output_type": "execute_result"
    }
   ],
   "source": [
    "torch.mv(A,x)"
   ]
  },
  {
   "cell_type": "code",
   "execution_count": 79,
   "id": "feeadd36",
   "metadata": {},
   "outputs": [
    {
     "data": {
      "text/plain": [
       "tensor([ 8., 26.])"
      ]
     },
     "execution_count": 79,
     "metadata": {},
     "output_type": "execute_result"
    }
   ],
   "source": [
    "A@x"
   ]
  },
  {
   "cell_type": "markdown",
   "id": "8a18250c",
   "metadata": {},
   "source": [
    "### 2.3.10 Matrix-Matrix Multiplication\n",
    "Say that we have two matrices \n",
    "$\\mathbf{A} \\in \\mathbb{R}^{n \\times k}$ \n",
    "and $\\mathbf{B} \\in \\mathbb{R}^{k \\times m}$:\n",
    "\n",
    "$$\\mathbf{A}=\\begin{bmatrix}\n",
    " a_{11} & a_{12} & \\cdots & a_{1k} \\\\\n",
    " a_{21} & a_{22} & \\cdots & a_{2k} \\\\\n",
    "\\vdots & \\vdots & \\ddots & \\vdots \\\\\n",
    " a_{n1} & a_{n2} & \\cdots & a_{nk} \\\\\n",
    "\\end{bmatrix},\\quad\n",
    "\\mathbf{B}=\\begin{bmatrix}\n",
    " b_{11} & b_{12} & \\cdots & b_{1m} \\\\\n",
    " b_{21} & b_{22} & \\cdots & b_{2m} \\\\\n",
    "\\vdots & \\vdots & \\ddots & \\vdots \\\\\n",
    " b_{k1} & b_{k2} & \\cdots & b_{km} \\\\\n",
    "\\end{bmatrix}.$$\n",
    "\n",
    "\n",
    "Let $\\mathbf{a}^\\top_{i} \\in \\mathbb{R}^k$ denote \n",
    "the row vector representing the $i^\\textrm{th}$ row \n",
    "of the matrix $\\mathbf{A}$\n",
    "and let $\\mathbf{b}_{j} \\in \\mathbb{R}^k$ denote \n",
    "the column vector from the $j^\\textrm{th}$ column \n",
    "of the matrix $\\mathbf{B}$:\n",
    "\n",
    "$$\\mathbf{A}=\n",
    "\\begin{bmatrix}\n",
    "\\mathbf{a}^\\top_{1} \\\\\n",
    "\\mathbf{a}^\\top_{2} \\\\\n",
    "\\vdots \\\\\n",
    "\\mathbf{a}^\\top_n \\\\\n",
    "\\end{bmatrix},\n",
    "\\quad \\mathbf{B}=\\begin{bmatrix}\n",
    " \\mathbf{b}_{1} & \\mathbf{b}_{2} & \\cdots & \\mathbf{b}_{m} \\\\\n",
    "\\end{bmatrix}.\n",
    "$$\n",
    "\n",
    "\n",
    "To form the matrix product $\\mathbf{C} \\in \\mathbb{R}^{n \\times m}$,\n",
    "we simply compute each element $c_{ij}$\n",
    "as the dot product between \n",
    "the $i^{\\textrm{th}}$ row of $\\mathbf{A}$\n",
    "and the $j^{\\textrm{th}}$ column of $\\mathbf{B}$,\n",
    "i.e., $\\mathbf{a}^\\top_i \\mathbf{b}_j$:\n",
    "\n",
    "$$\\mathbf{C} = \\mathbf{AB} = \\begin{bmatrix}\n",
    "\\mathbf{a}^\\top_{1} \\\\\n",
    "\\mathbf{a}^\\top_{2} \\\\\n",
    "\\vdots \\\\\n",
    "\\mathbf{a}^\\top_n \\\\\n",
    "\\end{bmatrix}\n",
    "\\begin{bmatrix}\n",
    " \\mathbf{b}_{1} & \\mathbf{b}_{2} & \\cdots & \\mathbf{b}_{m} \\\\\n",
    "\\end{bmatrix}\n",
    "= \\begin{bmatrix}\n",
    "\\mathbf{a}^\\top_{1} \\mathbf{b}_1 & \\mathbf{a}^\\top_{1}\\mathbf{b}_2& \\cdots & \\mathbf{a}^\\top_{1} \\mathbf{b}_m \\\\\n",
    " \\mathbf{a}^\\top_{2}\\mathbf{b}_1 & \\mathbf{a}^\\top_{2} \\mathbf{b}_2 & \\cdots & \\mathbf{a}^\\top_{2} \\mathbf{b}_m \\\\\n",
    " \\vdots & \\vdots & \\ddots &\\vdots\\\\\n",
    "\\mathbf{a}^\\top_{n} \\mathbf{b}_1 & \\mathbf{a}^\\top_{n}\\mathbf{b}_2& \\cdots& \\mathbf{a}^\\top_{n} \\mathbf{b}_m\n",
    "\\end{bmatrix}.\n",
    "$$\n",
    "\n",
    "[**We can think of the matrix--matrix multiplication $\\mathbf{AB}$\n",
    "as performing $m$ matrix--vector products \n",
    "or $m \\times n$ dot products \n",
    "and stitching the results together \n",
    "to form an $n \\times m$ matrix.**]\n",
    "\n",
    "In the following snippet, \n",
    "we perform matrix multiplication on `A` and `B`.\n",
    "Here, `A` is a matrix with two rows and three columns,\n",
    "and `B` is a matrix with three rows and four columns.\n",
    "After multiplication, we obtain a matrix with two rows and four columns."
   ]
  },
  {
   "cell_type": "code",
   "execution_count": 84,
   "id": "164e79fb",
   "metadata": {},
   "outputs": [
    {
     "data": {
      "text/plain": [
       "tensor([[ 0.,  1.,  2.,  3.],\n",
       "        [ 4.,  5.,  6.,  7.],\n",
       "        [ 8.,  9., 10., 11.]])"
      ]
     },
     "execution_count": 84,
     "metadata": {},
     "output_type": "execute_result"
    }
   ],
   "source": [
    "B = torch.arange(12, dtype=torch.float32).reshape(3,4)\n",
    "B"
   ]
  },
  {
   "cell_type": "code",
   "execution_count": 81,
   "id": "08982ce0",
   "metadata": {},
   "outputs": [
    {
     "data": {
      "text/plain": [
       "tensor([[0., 1., 2.],\n",
       "        [3., 4., 5.]])"
      ]
     },
     "execution_count": 81,
     "metadata": {},
     "output_type": "execute_result"
    }
   ],
   "source": [
    "A"
   ]
  },
  {
   "cell_type": "code",
   "execution_count": 85,
   "id": "071312ce",
   "metadata": {},
   "outputs": [
    {
     "data": {
      "text/plain": [
       "tensor([[20., 23., 26., 29.],\n",
       "        [56., 68., 80., 92.]])"
      ]
     },
     "execution_count": 85,
     "metadata": {},
     "output_type": "execute_result"
    }
   ],
   "source": [
    "torch.mm(A,B) # only works for matrices"
   ]
  },
  {
   "cell_type": "code",
   "execution_count": 86,
   "id": "6f49b6b7",
   "metadata": {},
   "outputs": [
    {
     "data": {
      "text/plain": [
       "tensor([[20., 23., 26., 29.],\n",
       "        [56., 68., 80., 92.]])"
      ]
     },
     "execution_count": 86,
     "metadata": {},
     "output_type": "execute_result"
    }
   ],
   "source": [
    "A@B"
   ]
  },
  {
   "cell_type": "markdown",
   "id": "4d3315ca",
   "metadata": {},
   "source": [
    "A @ B:\n",
    "The @ operator is overloaded for tensor objects in PyTorch to perform matrix multiplication.\n",
    "It works for tensors of any dimensionality as long as the dimensions are compatible for matrix multiplication according to broadcasting rules.\n",
    "It provides a more concise and Pythonic way of expressing matrix multiplication."
   ]
  },
  {
   "cell_type": "markdown",
   "id": "349005e3",
   "metadata": {},
   "source": [
    "The term *matrix--matrix multiplication* is \n",
    "often simplified to *matrix multiplication*,\n",
    "and should not be confused with the Hadamard product."
   ]
  },
  {
   "cell_type": "markdown",
   "id": "d6e24f7a",
   "metadata": {},
   "source": [
    "### 2.3.11 Norms\n",
    "\n",
    "Informally, the norm of a vector tells us how *big* it is. \n",
    "For instance, the $\\ell_2$ norm measures\n",
    "the (Euclidean) length of a vector.\n",
    "Here, we are employing a notion of *size* that concerns the magnitude of a vector's components\n",
    "(not its dimensionality). \n",
    "\n",
    "A norm is a function $\\| \\cdot \\|$ that maps a vector\n",
    "to a scalar and satisfies the following three properties:\n",
    "\n",
    "1. Given any vector $\\mathbf{x}$, if we scale (all elements of) the vector \n",
    "   by a scalar $\\alpha \\in \\mathbb{R}$, its norm scales accordingly:\n",
    "   $$\\|\\alpha \\mathbf{x}\\| = |\\alpha| \\|\\mathbf{x}\\|.$$\n",
    "2. For any vectors $\\mathbf{x}$ and $\\mathbf{y}$:\n",
    "   norms satisfy the triangle inequality:\n",
    "   $$\\|\\mathbf{x} + \\mathbf{y}\\| \\leq \\|\\mathbf{x}\\| + \\|\\mathbf{y}\\|.$$\n",
    "3. The norm of a vector is nonnegative and it only vanishes if the vector is zero:\n",
    "   $$\\|\\mathbf{x}\\| > 0 \\textrm{ for all } \\mathbf{x} \\neq 0.$$\n",
    "\n",
    "Many functions are valid norms and different norms \n",
    "encode different notions of size. \n",
    "The Euclidean norm that we all learned in elementary school geometry\n",
    "when calculating the hypotenuse of a right triangle\n",
    "is the square root of the sum of squares of a vector's elements.\n",
    "Formally, this is called [**the $\\ell_2$ *norm***] and expressed as\n",
    "\n",
    "**$$\\|\\mathbf{x}\\|_2 = \\sqrt{\\sum_{i=1}^n x_i^2}.$$**\n",
    "\n",
    "The method `norm` calculates the $\\ell_2$ norm.\n"
   ]
  },
  {
   "cell_type": "code",
   "execution_count": 96,
   "id": "fa12193e",
   "metadata": {},
   "outputs": [
    {
     "data": {
      "text/plain": [
       "tensor(5.0990)"
      ]
     },
     "execution_count": 96,
     "metadata": {},
     "output_type": "execute_result"
    }
   ],
   "source": [
    "u = torch.tensor([3.,-4.,1.])\n",
    "torch.norm(u) # Euclidiean distance"
   ]
  },
  {
   "cell_type": "markdown",
   "id": "72c1b54f",
   "metadata": {},
   "source": [
    "[**The $\\ell_1$ norm**] is also common \n",
    "and the associated measure is called the Manhattan distance. \n",
    "By definition, the $\\ell_1$ norm sums \n",
    "the absolute values of a vector's elements:\n",
    "\n",
    "**$$\\|\\mathbf{x}\\|_1 = \\sum_{i=1}^n \\left|x_i \\right|.$$**\n",
    "\n",
    "Compared to the $\\ell_2$ norm, it is less sensitive to outliers.\n",
    "To compute the $\\ell_1$ norm, \n",
    "we compose the absolute value\n",
    "with the sum operation."
   ]
  },
  {
   "cell_type": "code",
   "execution_count": 97,
   "id": "3e8a7cfa",
   "metadata": {},
   "outputs": [
    {
     "data": {
      "text/plain": [
       "tensor(8.)"
      ]
     },
     "execution_count": 97,
     "metadata": {},
     "output_type": "execute_result"
    }
   ],
   "source": [
    "torch.abs(u).sum()"
   ]
  },
  {
   "cell_type": "markdown",
   "id": "b2356c88",
   "metadata": {},
   "source": [
    "Both the $\\ell_2$ and $\\ell_1$ norms are special cases\n",
    "of the more general $\\ell_p$ *norms*:\n",
    "\n",
    "$$\\|\\mathbf{x}\\|_p = \\left(\\sum_{i=1}^n \\left|x_i \\right|^p \\right)^{1/p}.$$\n",
    "\n",
    "In the case of matrices, matters are more complicated. \n",
    "After all, matrices can be viewed both as collections of individual entries \n",
    "*and* as objects that operate on vectors and transform them into other vectors. \n",
    "For instance, we can ask by how much longer \n",
    "the matrix--vector product $\\mathbf{X} \\mathbf{v}$ \n",
    "could be relative to $\\mathbf{v}$. \n",
    "This line of thought leads to what is called the *spectral* norm. \n",
    "For now, we introduce [**the *Frobenius norm*, \n",
    "which is much easier to compute**] and defined as\n",
    "the square root of the sum of the squares \n",
    "of a matrix's elements:\n",
    "\n",
    "**$$\\|\\mathbf{X}\\|_\\textrm{F} = \\sqrt{\\sum_{i=1}^m \\sum_{j=1}^n x_{ij}^2}.$$**\n",
    "\n",
    "The Frobenius norm behaves as if it were \n",
    "an $\\ell_2$ norm of a matrix-shaped vector.\n",
    "Invoking the following function will calculate \n",
    "the Frobenius norm of a matrix."
   ]
  },
  {
   "cell_type": "code",
   "execution_count": 101,
   "id": "4bc10e2f",
   "metadata": {},
   "outputs": [
    {
     "data": {
      "text/plain": [
       "tensor(3.4641)"
      ]
     },
     "execution_count": 101,
     "metadata": {},
     "output_type": "execute_result"
    }
   ],
   "source": [
    "torch.norm(torch.ones((3,4)))"
   ]
  },
  {
   "cell_type": "code",
   "execution_count": 100,
   "id": "405b12a6",
   "metadata": {},
   "outputs": [
    {
     "data": {
      "text/plain": [
       "tensor([[1., 1., 1., 1.],\n",
       "        [1., 1., 1., 1.],\n",
       "        [1., 1., 1., 1.]])"
      ]
     },
     "execution_count": 100,
     "metadata": {},
     "output_type": "execute_result"
    }
   ],
   "source": [
    "torch.ones((3,4)) # squares, sums up all elements in matrix and sqroots"
   ]
  },
  {
   "cell_type": "markdown",
   "id": "dcc9d7d5",
   "metadata": {},
   "source": [
    "In deep learning, we are often trying to solve optimization problems:\n",
    "- *maximize* the probability assigned to observed data;\n",
    "- *maximize* the revenue associated with a recommender model; \n",
    "- *minimize* the distance between predictions and the ground truth observations; \n",
    "- *minimize* the distance between representations of photos of the same person  while *maximizing* the distance between representations of photos of different people. \n",
    "\n",
    "These distances, which constitute the objectives of deep learning algorithms, are **often expressed as norms**."
   ]
  },
  {
   "cell_type": "markdown",
   "id": "f960251c",
   "metadata": {},
   "source": [
    "### 2.3.12 Discussion\n",
    "\n",
    "In this section, we have reviewed all the linear algebra\n",
    "that you will need to understand\n",
    "a significant chunk of modern deep learning.\n",
    "\n",
    "To recap:\n",
    "\n",
    "* Scalars, vectors, matrices, and tensors are \n",
    "  the basic mathematical objects used in linear algebra \n",
    "  and have zero, one, two, and an arbitrary number of axes, respectively.\n",
    "* Tensors can be sliced or reduced along specified axes \n",
    "  via indexing, or operations such as `sum` and `mean`, respectively.\n",
    "* Elementwise products are called Hadamard products. \n",
    "  By contrast, dot products, matrix--vector products, and matrix--matrix products \n",
    "  are not elementwise operations and in general return objects \n",
    "  having shapes that are different from the the operands. \n",
    "* Compared to Hadamard products, matrix--matrix products \n",
    "  take considerably longer to compute (cubic rather than quadratic time).\n",
    "* Norms capture various notions of the magnitude of a vector (or matrix), \n",
    "  and are commonly applied to the difference of two vectors \n",
    "  to measure their distance apart.\n",
    "* Common vector norms include the $\\ell_1$ and $\\ell_2$ norms, \n",
    "   and common matrix norms include the *spectral* and *Frobenius* norms."
   ]
  },
  {
   "cell_type": "markdown",
   "id": "8c54334a",
   "metadata": {},
   "source": [
    "### 2.3.13 Exercises\n",
    "\n",
    "1. Prove that the transpose of the transpose of a matrix is the matrix itself: $(\\mathbf{A}^\\top)^\\top = \\mathbf{A}$.\n",
    "1. Given two matrices $\\mathbf{A}$ and $\\mathbf{B}$, show that sum and transposition commute: $\\mathbf{A}^\\top + \\mathbf{B}^\\top = (\\mathbf{A} + \\mathbf{B})^\\top$.\n",
    "1. Given any square matrix $\\mathbf{A}$, is $\\mathbf{A} + \\mathbf{A}^\\top$ always symmetric? Can you prove the result by using only the results of the previous two exercises?\n",
    "1. We defined the tensor `X` of shape (2, 3, 4) in this section. What is the output of `len(X)`? Write your answer without implementing any code, then check your answer using code. \n",
    "1. For a tensor `X` of arbitrary shape, does `len(X)` always correspond to the length of a certain axis of `X`? What is that axis?\n",
    "1. Run `A / A.sum(axis=1)` and see what happens. Can you analyze the results?\n",
    "1. When traveling between two points in downtown Manhattan, what is the distance that you need to cover in terms of the coordinates, i.e., in terms of avenues and streets? Can you travel diagonally?\n",
    "1. Consider a tensor of shape (2, 3, 4). What are the shapes of the summation outputs along axes 0, 1, and 2?\n",
    "1. Feed a tensor with three or more axes to the `linalg.norm` function and observe its output. What does this function compute for tensors of arbitrary shape?\n",
    "1. Consider three large matrices, say $\\mathbf{A} \\in \\mathbb{R}^{2^{10} \\times 2^{16}}$, $\\mathbf{B} \\in \\mathbb{R}^{2^{16} \\times 2^{5}}$ and $\\mathbf{C} \\in \\mathbb{R}^{2^{5} \\times 2^{14}}$, initialized with Gaussian random variables. You want to compute the product $\\mathbf{A} \\mathbf{B} \\mathbf{C}$. Is there any difference in memory footprint and speed, depending on whether you compute $(\\mathbf{A} \\mathbf{B}) \\mathbf{C}$ or $\\mathbf{A} (\\mathbf{B} \\mathbf{C})$. Why?\n",
    "1. Consider three large matrices, say $\\mathbf{A} \\in \\mathbb{R}^{2^{10} \\times 2^{16}}$, $\\mathbf{B} \\in \\mathbb{R}^{2^{16} \\times 2^{5}}$ and $\\mathbf{C} \\in \\mathbb{R}^{2^{5} \\times 2^{16}}$. Is there any difference in speed depending on whether you compute $\\mathbf{A} \\mathbf{B}$ or $\\mathbf{A} \\mathbf{C}^\\top$? Why? What changes if you initialize $\\mathbf{C} = \\mathbf{B}^\\top$ without cloning memory? Why?\n",
    "1. Consider three matrices, say $\\mathbf{A}, \\mathbf{B}, \\mathbf{C} \\in \\mathbb{R}^{100 \\times 200}$. Construct a tensor with three axes by stacking $[\\mathbf{A}, \\mathbf{B}, \\mathbf{C}]$. What is the dimensionality? Slice out the second coordinate of the third axis to recover $\\mathbf{B}$. Check that your answer is correct."
   ]
  },
  {
   "cell_type": "markdown",
   "id": "a0295da6",
   "metadata": {},
   "source": [
    "1. Prove that the transpose of the transpose of a matrix is the matrix itself: $(\\mathbf{A}^\\top)^\\top = \\mathbf{A}$."
   ]
  },
  {
   "cell_type": "markdown",
   "id": "839b1418",
   "metadata": {},
   "source": [
    "The (i,j) entry of A^T is the (j,i) entry of A "
   ]
  },
  {
   "cell_type": "code",
   "execution_count": null,
   "id": "d0054c73",
   "metadata": {},
   "outputs": [],
   "source": []
  }
 ],
 "metadata": {
  "kernelspec": {
   "display_name": "Python 3 (ipykernel)",
   "language": "python",
   "name": "python3"
  },
  "language_info": {
   "codemirror_mode": {
    "name": "ipython",
    "version": 3
   },
   "file_extension": ".py",
   "mimetype": "text/x-python",
   "name": "python",
   "nbconvert_exporter": "python",
   "pygments_lexer": "ipython3",
   "version": "3.9.12"
  }
 },
 "nbformat": 4,
 "nbformat_minor": 5
}
