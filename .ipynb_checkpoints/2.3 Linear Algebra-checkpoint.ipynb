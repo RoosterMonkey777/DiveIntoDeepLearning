{
 "cells": [
  {
   "cell_type": "markdown",
   "id": "75a222e9",
   "metadata": {},
   "source": [
    "# 2.3 Linear Algebra"
   ]
  },
  {
   "cell_type": "markdown",
   "id": "fba53784",
   "metadata": {},
   "source": [
    "Can load datasets into tensors and manipulate these tensors with basic mathematical operations. To start building sophisticated models, will need a few tools from linear algebra. This section offers a gentle introduction to the most essential concepts"
   ]
  },
  {
   "cell_type": "markdown",
   "id": "bd5e308a",
   "metadata": {},
   "source": [
    "### 2.3.1 Scalers\n",
    "Manipulating numbers one at a time. Formally, we call these values **scalars**.\n",
    "\n",
    "For example, the temperature in Palo Alto is a balmy $72$ degrees Fahrenheit. If you wanted to convert the temperature to Celsius you would evaluate the expression $c = \\frac{5}{9}(f - 32)$, setting $f$ to $72$. In this equation, the values $5$, $9$, and $32$ are constant scalars. The variables $c$ and $f$ in general represent unknown scalars.\n",
    "\n",
    "We denote scalars by ordinary lower-cased letters (e.g., $x$, $y$, and $z$)and the space of all (continuous) *real-valued* scalars by $\\mathbb{R}$.\n",
    "\n",
    "Remember that the expression $x \\in \\mathbb{R}$\n",
    "is a formal way to say that $x$ is a real-valued scalar.\n",
    "The symbol $\\in$ (pronounced \"in\")\n",
    "denotes membership in a set.\n",
    "\n",
    "(**Scalars are implemented as tensors \n",
    "that contain only one element.**)\n",
    "Below, we assign two scalars\n",
    "and perform the familiar addition, multiplication,\n",
    "division, and exponentiation operations."
   ]
  },
  {
   "cell_type": "code",
   "execution_count": 2,
   "id": "cac08a95",
   "metadata": {},
   "outputs": [
    {
     "data": {
      "text/plain": [
       "(tensor(5.), tensor(1.), tensor(6.), tensor(1.5000), tensor(9.))"
      ]
     },
     "execution_count": 2,
     "metadata": {},
     "output_type": "execute_result"
    }
   ],
   "source": [
    "import torch\n",
    "\n",
    "x = torch.tensor(3.0)\n",
    "y = torch.tensor(2.0)\n",
    "x+y, x-y, x*y, x/y, x**y"
   ]
  },
  {
   "cell_type": "markdown",
   "id": "73dcd5af",
   "metadata": {},
   "source": [
    "### 2.3.2 Vectors\n",
    "\n",
    "[**you can think of a vector as a fixed-length array of scalars.**].\n",
    "Call these scalars the *elements* of the vector\n",
    "\n",
    "For example, if we were training a model to predict the risk of a loan defaulting, might associate each applicant with a vector whose components correspond to quantities like their income, length of employment, or number of previous defaults.\n",
    "\n",
    "If we were studying the risk of heart attack, each vector might represent a patient and its components might correspond to\n",
    "their most recent vital signs, cholesterol levels, minutes of exercise per day, etc.\n",
    "\n",
    "We denote vectors by bold lowercase letters, \n",
    "(e.g., $\\mathbf{x}$, $\\mathbf{y}$, and $\\mathbf{z}$).\n",
    "\n",
    "Vectors are implemented as $1^{\\textrm{st}}$-order tensors.\n",
    "\n",
    "In general, such tensors can have arbitrary lengths,\n",
    "subject to memory limitations. Caution: in Python, as in most programming languages, vector indices start at $0$, also known as *zero-based indexing*, whereas in linear algebra subscripts begin at $1$ (one-based indexing).\n"
   ]
  },
  {
   "cell_type": "code",
   "execution_count": 5,
   "id": "f9d99439",
   "metadata": {},
   "outputs": [],
   "source": [
    "x = torch.arange(3)"
   ]
  },
  {
   "cell_type": "markdown",
   "id": "d297c454",
   "metadata": {},
   "source": [
    "We can refer to an element of a vector by using a subscript.\n",
    "For example, $x_2$ denotes the second element of $\\mathbf{x}$. \n",
    "Since $x_2$ is a scalar, we do not bold it.\n",
    "By default, we visualize vectors \n",
    "by stacking their elements vertically.\n",
    "\n",
    "$$\\mathbf{x} =\\begin{bmatrix}x_{1}  \\\\ \\vdots  \\\\x_{n}\\end{bmatrix},$$\n",
    "\n",
    "\n",
    "Here $x_1, \\ldots, x_n$ are elements of the vector.\n",
    "Later on, we will distinguish between such *column vectors*\n",
    "and *row vectors* whose elements are stacked horizontally.\n",
    "Recall that [**we access a tensor's elements via indexing.**]"
   ]
  },
  {
   "cell_type": "code",
   "execution_count": 6,
   "id": "477cc257",
   "metadata": {},
   "outputs": [
    {
     "data": {
      "text/plain": [
       "tensor(2)"
      ]
     },
     "execution_count": 6,
     "metadata": {},
     "output_type": "execute_result"
    }
   ],
   "source": [
    "x[2]"
   ]
  },
  {
   "cell_type": "markdown",
   "id": "70df60e6",
   "metadata": {},
   "source": [
    "To indicate that a vector contains $n$ elements,\n",
    "we write $\\mathbf{x} \\in \\mathbb{R}^n$.\n",
    "\n",
    "Formally, we call $n$ the *dimensionality* of the vector.\n",
    "[**In code, this corresponds to the tensor's length**],\n",
    "accessible via Python's built-in `len` function."
   ]
  },
  {
   "cell_type": "code",
   "execution_count": 7,
   "id": "e0f7b10c",
   "metadata": {},
   "outputs": [
    {
     "data": {
      "text/plain": [
       "3"
      ]
     },
     "execution_count": 7,
     "metadata": {},
     "output_type": "execute_result"
    }
   ],
   "source": [
    "len(x)"
   ]
  },
  {
   "cell_type": "markdown",
   "id": "1f32fb11",
   "metadata": {},
   "source": [
    "Can also access the length via the shape attribute. The shape is a tuple that indicates a tensor’s length along each axis. Tensors with just one axis have shapes with just one element."
   ]
  },
  {
   "cell_type": "code",
   "execution_count": 8,
   "id": "2dded7e2",
   "metadata": {},
   "outputs": [
    {
     "data": {
      "text/plain": [
       "torch.Size([3])"
      ]
     },
     "execution_count": 8,
     "metadata": {},
     "output_type": "execute_result"
    }
   ],
   "source": [
    "x.shape"
   ]
  },
  {
   "cell_type": "markdown",
   "id": "87530b17",
   "metadata": {},
   "source": [
    "The word “dimension” gets overloaded to mean both the number of axes and the length along a particular axis. \n",
    "\n",
    "To avoid this confusion, we use **order** to refer to the number of axes and **dimensionality** exclusively to refer to the number of components."
   ]
  },
  {
   "cell_type": "markdown",
   "id": "c3fb7dd7",
   "metadata": {},
   "source": [
    "### 2.3.3 Matrices\n",
    "\n",
    "Scalars are $0^{\\textrm{th}}$-order tensors and vectors are $1^{\\textrm{st}}$-order tensors, matrices are $2^{\\textrm{nd}}$-order tensors.\n",
    "\n",
    "Denote matrices by bold capital letters (e.g., $\\mathbf{X}$, $\\mathbf{Y}$, and $\\mathbf{Z}$), and represent them in code by tensors with two axes.\n",
    "\n",
    "The expression $\\mathbf{A} \\in \\mathbb{R}^{m \\times n}$\n",
    "indicates that a matrix $\\mathbf{A}$ contains $m \\times n$ real-valued scalars, arranged as $m$ rows and $n$ columns.\n",
    "\n",
    "When $m = n$, we say that a matrix is *square*.\n",
    "\n",
    "Visually, can illustrate any matrix as a table. To refer to an individual element,we subscript both the row and column indices, e.g.,\n",
    "$a_{ij}$ is the value that belongs to $\\mathbf{A}$'s\n",
    "$i^{\\textrm{th}}$ row and $j^{\\textrm{th}}$ column:\n",
    "\n",
    "$$\\mathbf{A}=\\begin{bmatrix} a_{11} & a_{12} & \\cdots & a_{1n} \\\\ a_{21} & a_{22} & \\cdots & a_{2n} \\\\ \\vdots & \\vdots & \\ddots & \\vdots \\\\ a_{m1} & a_{m2} & \\cdots & a_{mn} \\\\ \\end{bmatrix}.$$\n",
    "\n",
    "\n",
    "In code, we represent a matrix $\\mathbf{A} \\in \\mathbb{R}^{m \\times n}$\n",
    "by a $2^{\\textrm{nd}}$-order tensor with shape ($m$, $n$).\n",
    "[**We can convert any appropriately sized $m \\times n$ tensor \n",
    "into an $m \\times n$ matrix**] \n",
    "by passing the desired shape to `reshape`:\n"
   ]
  },
  {
   "cell_type": "code",
   "execution_count": 9,
   "id": "740553f3",
   "metadata": {},
   "outputs": [
    {
     "data": {
      "text/plain": [
       "tensor([[0, 1],\n",
       "        [2, 3],\n",
       "        [4, 5]])"
      ]
     },
     "execution_count": 9,
     "metadata": {},
     "output_type": "execute_result"
    }
   ],
   "source": [
    "A = torch.arange(6).reshape(3,2)\n",
    "A"
   ]
  },
  {
   "cell_type": "markdown",
   "id": "e599e41d",
   "metadata": {},
   "source": [
    "Sometimes we want to flip the axes. When exchange a matrix's rows and columns, the result is called its *transpose*.\n",
    "\n",
    "Formally, we signify a matrix $\\mathbf{A}$'s transpose by $\\mathbf{A}^\\top$ and if $\\mathbf{B} = \\mathbf{A}^\\top$, then $b_{ij} = a_{ji}$ for all $i$ and $j$.\n",
    "\n",
    "Thus, the transpose of an $m \\times n$ matrix is an $n \\times m$ matrix:\n",
    "\n",
    "$$\n",
    "\\mathbf{A}^\\top =\n",
    "\\begin{bmatrix}\n",
    "    a_{11} & a_{21} & \\dots  & a_{m1} \\\\\n",
    "    a_{12} & a_{22} & \\dots  & a_{m2} \\\\\n",
    "    \\vdots & \\vdots & \\ddots  & \\vdots \\\\\n",
    "    a_{1n} & a_{2n} & \\dots  & a_{mn}\n",
    "\\end{bmatrix}.\n",
    "$$\n",
    "\n",
    "In code, we can access any (**matrix's transpose**) as follows:"
   ]
  },
  {
   "cell_type": "code",
   "execution_count": 10,
   "id": "e9581e56",
   "metadata": {},
   "outputs": [
    {
     "data": {
      "text/plain": [
       "tensor([[0, 2, 4],\n",
       "        [1, 3, 5]])"
      ]
     },
     "execution_count": 10,
     "metadata": {},
     "output_type": "execute_result"
    }
   ],
   "source": [
    "A.T"
   ]
  },
  {
   "cell_type": "markdown",
   "id": "5cb2169c",
   "metadata": {},
   "source": [
    "[**Symmetric matrices are the subset of square matrices\n",
    "that are equal to their own transposes:\n",
    "$\\mathbf{A} = \\mathbf{A}^\\top$.**]\n",
    "The following matrix is symmetric:"
   ]
  },
  {
   "cell_type": "code",
   "execution_count": 12,
   "id": "643699a9",
   "metadata": {},
   "outputs": [],
   "source": [
    "A = torch.tensor([[1,2,3],[2,0,4],[3,4,5]])"
   ]
  },
  {
   "cell_type": "code",
   "execution_count": 13,
   "id": "c5e2031c",
   "metadata": {},
   "outputs": [
    {
     "data": {
      "text/plain": [
       "tensor([[True, True, True],\n",
       "        [True, True, True],\n",
       "        [True, True, True]])"
      ]
     },
     "execution_count": 13,
     "metadata": {},
     "output_type": "execute_result"
    }
   ],
   "source": [
    "A == A.T"
   ]
  },
  {
   "cell_type": "markdown",
   "id": "ff289747",
   "metadata": {},
   "source": [
    "Matrices are useful for representing datasets. \n",
    "\n",
    "Typically, rows correspond to individual records and columns correspond to distinct attributes."
   ]
  },
  {
   "cell_type": "markdown",
   "id": "008431a5",
   "metadata": {},
   "source": [
    "### 2.3.4 Tensors"
   ]
  }
 ],
 "metadata": {
  "kernelspec": {
   "display_name": "Python 3 (ipykernel)",
   "language": "python",
   "name": "python3"
  },
  "language_info": {
   "codemirror_mode": {
    "name": "ipython",
    "version": 3
   },
   "file_extension": ".py",
   "mimetype": "text/x-python",
   "name": "python",
   "nbconvert_exporter": "python",
   "pygments_lexer": "ipython3",
   "version": "3.9.12"
  }
 },
 "nbformat": 4,
 "nbformat_minor": 5
}
